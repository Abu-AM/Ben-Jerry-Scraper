{
 "cells": [
  {
   "cell_type": "code",
   "execution_count": 1,
   "metadata": {},
   "outputs": [],
   "source": [
    "from bs4 import BeautifulSoup\n",
    "import requests"
   ]
  },
  {
   "cell_type": "code",
   "execution_count": 3,
   "metadata": {},
   "outputs": [],
   "source": [
    "url = \"https://www.benandjerrys.ca/en/flavours/ice-cream-pints\"\n",
    "\n",
    "response = requests.get(url)"
   ]
  },
  {
   "cell_type": "code",
   "execution_count": 6,
   "metadata": {},
   "outputs": [],
   "source": [
    "soup = BeautifulSoup(response.text, 'html.parser')"
   ]
  },
  {
   "cell_type": "code",
   "execution_count": 9,
   "metadata": {},
   "outputs": [],
   "source": [
    "flavor_info = soup.find_all(class_=\"landing-item\")"
   ]
  },
  {
   "cell_type": "code",
   "execution_count": 101,
   "metadata": {},
   "outputs": [],
   "source": [
    "flavor_directory = {}"
   ]
  },
  {
   "cell_type": "code",
   "execution_count": 107,
   "metadata": {},
   "outputs": [],
   "source": [
    "for flavor in flavor_info:\n",
    "    name = flavor.attrs['data-pname'].replace('\\u200b', '')\n",
    "    new = flavor.find(class_=\"new-product\") != None\n",
    "    link = \"https://www.benandjerrys.ca\" + flavor.attrs['data-producturl']\n",
    "\n",
    "    flavor_directory[name] = {\"Link\":link, \"New\":new}"
   ]
  },
  {
   "cell_type": "code",
   "execution_count": 109,
   "metadata": {},
   "outputs": [
    {
     "name": "stdout",
     "output_type": "stream",
     "text": [
      "https://www.benandjerrys.ca/en/flavours/chewy-gooey-cookie-ice-cream/pints\n",
      "https://www.benandjerrys.ca/en/flavours/milk-and-cookies-ice-cream/pints\n",
      "https://www.benandjerrys.ca/en/flavours/mint-chocolate-chance-ice-cream/pints\n",
      "https://www.benandjerrys.ca/en/flavours/strawberry-jammin-ice-cream/pints\n",
      "https://www.benandjerrys.ca/en/flavours/cherry-garcia-ice-cream/pints\n",
      "https://www.benandjerrys.ca/en/flavours/chocolate-chip-cookie-dough-ice-cream/pints\n",
      "https://www.benandjerrys.ca/en/flavours/chocolate-fudge-brownie-ice-cream/pints\n",
      "https://www.benandjerrys.ca/en/flavours/chocolate-therapy-ice-cream/pints\n",
      "https://www.benandjerrys.ca/en/flavours/coffee-coffee-buzzbuzzbuzz-ice-cream/pints\n",
      "https://www.benandjerrys.ca/en/flavours/cookies-a-la-caramel-ice-cream/pints\n",
      "https://www.benandjerrys.ca/en/flavours/half-baked-ice-cream/pints\n",
      "https://www.benandjerrys.ca/en/flavours/netflix-and-chillld-ice-cream/pints\n",
      "https://www.benandjerrys.ca/en/flavours/oh-cone-ada-ice-cream/pints\n",
      "https://www.benandjerrys.ca/en/flavours/peanut-butter-half-baked-ice-cream/pints\n",
      "https://www.benandjerrys.ca/en/flavours/smore-please-ice-cream/pints\n",
      "https://www.benandjerrys.ca/en/flavours/salted-caramel-almond-ice-cream.html/pints\n",
      "https://www.benandjerrys.ca/en/flavours/the-tonight-dough-ice-cream/pints\n"
     ]
    }
   ],
   "source": [
    "for flavor in flavor_directory:\n",
    "    print(flavor_directory[flavor][\"Link\"])"
   ]
  },
  {
   "cell_type": "code",
   "execution_count": 110,
   "metadata": {},
   "outputs": [],
   "source": [
    "url = \"https://www.benandjerrys.ca/en/flavours/cherry-garcia-ice-cream/pints\"\n",
    "\n",
    "response = requests.get(url)\n",
    "\n",
    "soup = BeautifulSoup(response.text, 'html.parser')\n"
   ]
  },
  {
   "cell_type": "code",
   "execution_count": 130,
   "metadata": {},
   "outputs": [],
   "source": [
    "content = list(soup.find(class_=\"accordion-content-style\").children)"
   ]
  },
  {
   "cell_type": "code",
   "execution_count": 196,
   "metadata": {},
   "outputs": [],
   "source": [
    "#Nutrition Facts\n",
    "nutr_img_link = \"https://www.benandjerrys.ca\" + content[5].attrs['data-original']"
   ]
  },
  {
   "cell_type": "code",
   "execution_count": 197,
   "metadata": {},
   "outputs": [
    {
     "name": "stdout",
     "output_type": "stream",
     "text": [
      "['CREAM', ' SKIM MILK', ' WATER', ' LIQUID SUGAR (SUGAR', ' WATER)', ' CORN SYRUP', ' SUGAR', ' WHEAT FLOUR', ' COCONUT', ' COCOA (PROCESSED WITH ALKALI)', ' EGG YOLKS', ' COCONUT OIL', ' BUTTER (CREAM', ' SALT)', ' CANOLA OIL', ' CORN STARCH', ' COCOA', ' GUAR GUM', ' SEA SALT', ' CARRAGEENAN', ' BAKING SODA', ' SOY LECITHIN', ' SALT', ' NATURAL FLAVOR', ' CITRIC ACID', ' MILK FAT', ' VANILLA EXTRACT.']\n"
     ]
    }
   ],
   "source": [
    "ingredients = content[1].text.split(\",\")\n",
    "print(ingredients)"
   ]
  },
  {
   "cell_type": "markdown",
   "metadata": {},
   "source": [
    "Concatinating strings that were incorrectly split - ex: ' LIQUID SUGAR (SUGAR' and ' WATER)'"
   ]
  },
  {
   "cell_type": "code",
   "execution_count": 198,
   "metadata": {},
   "outputs": [
    {
     "name": "stdout",
     "output_type": "stream",
     "text": [
      "[[3, 4], [12, 13]]\n"
     ]
    }
   ],
   "source": [
    "concat_index = [[]]\n",
    "ci = 0\n",
    "\n",
    "for i, ingredient in enumerate(ingredients):\n",
    "\n",
    "    if (\"(\" in ingredient) and (\")\" in ingredient):\n",
    "        pass\n",
    "\n",
    "    elif (\"(\" in ingredient) or (\")\" in ingredient):\n",
    "        if len(concat_index[ci]) == 2:\n",
    "            concat_index.append([])\n",
    "            ci += 1\n",
    "        concat_index[ci].append(i)\n",
    "\n",
    "print(concat_index)\n"
   ]
  },
  {
   "cell_type": "code",
   "execution_count": 199,
   "metadata": {},
   "outputs": [],
   "source": [
    "for pair in concat_index[::-1]:\n",
    "    concat_ingr = ingredients[pair[0]] + \",\" + ingredients[pair[1]]\n",
    "    ingredients.pop(pair[1])\n",
    "    ingredients.pop(pair[0])\n",
    "    ingredients.insert(pair[0], concat_ingr)"
   ]
  },
  {
   "cell_type": "code",
   "execution_count": 200,
   "metadata": {},
   "outputs": [
    {
     "name": "stdout",
     "output_type": "stream",
     "text": [
      "CREAM\n",
      "SKIM MILK\n",
      "WATER\n",
      "LIQUID SUGAR (SUGAR, WATER)\n",
      "CORN SYRUP\n",
      "SUGAR\n",
      "WHEAT FLOUR\n",
      "COCONUT\n",
      "COCOA (PROCESSED WITH ALKALI)\n",
      "EGG YOLKS\n",
      "COCONUT OIL\n",
      "BUTTER (CREAM, SALT)\n",
      "CANOLA OIL\n",
      "CORN STARCH\n",
      "COCOA\n",
      "GUAR GUM\n",
      "SEA SALT\n",
      "CARRAGEENAN\n",
      "BAKING SODA\n",
      "SOY LECITHIN\n",
      "SALT\n",
      "NATURAL FLAVOR\n",
      "CITRIC ACID\n",
      "MILK FAT\n",
      "VANILLA EXTRACT\n"
     ]
    }
   ],
   "source": [
    "for i, ingredient in enumerate(ingredients):\n",
    "    ingredients[i] = ingredient.strip().replace(\".\", \"\")\n",
    "    print(ingredients[i])\n"
   ]
  },
  {
   "cell_type": "code",
   "execution_count": 201,
   "metadata": {},
   "outputs": [],
   "source": [
    "allergy_info = content[3].text.replace(\"\\n\", \"\").replace(\"\\t\", \"\").replace('Allergy Information: Allergen Information: CONTAINS ', \"\").replace(\".\", \"\").replace(\" AND\", \"\").split(\",\")"
   ]
  }
 ],
 "metadata": {
  "interpreter": {
   "hash": "999a0e970cd5573a62b1a6a85310f63728836a845780ae75b09b9433466bb7c1"
  },
  "kernelspec": {
   "display_name": "Python 3.10.4 ('.venv': venv)",
   "language": "python",
   "name": "python3"
  },
  "language_info": {
   "codemirror_mode": {
    "name": "ipython",
    "version": 3
   },
   "file_extension": ".py",
   "mimetype": "text/x-python",
   "name": "python",
   "nbconvert_exporter": "python",
   "pygments_lexer": "ipython3",
   "version": "3.10.4"
  },
  "orig_nbformat": 4
 },
 "nbformat": 4,
 "nbformat_minor": 2
}
